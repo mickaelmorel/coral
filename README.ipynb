{
 "cells": [
  {
   "cell_type": "markdown",
   "metadata": {},
   "source": [
    "# The Godfather returns"
   ]
  },
  {
   "cell_type": "markdown",
   "metadata": {},
   "source": [
    "## Introduction\n",
    "\n",
    "The Godfather returns is a multi-class classification data set formatted in the AutoML format."
   ]
  },
  {
   "cell_type": "code",
   "execution_count": 117,
   "metadata": {
    "collapsed": false
   },
   "outputs": [],
   "source": [
    "codedir = 'sample_code/'                        # Change this to the directory where you put the code\n",
    "from sys import path; path.append(codedir)\n",
    "%matplotlib inline\n",
    "import seaborn as sns; sns.set()\n",
    "import matplotlib.pyplot as plt"
   ]
  },
  {
   "cell_type": "markdown",
   "metadata": {},
   "source": [
    "## Fetch the data and load it"
   ]
  },
  {
   "cell_type": "code",
   "execution_count": 118,
   "metadata": {
    "collapsed": false
   },
   "outputs": [
    {
     "name": "stdout",
     "output_type": "stream",
     "text": [
      "public_data/crime_feat.name   public_data/crime_train.data\r\n",
      "public_data/crime_label.name  public_data/crime_train.solution\r\n",
      "public_data/crime_test.data   public_data/crime_valid.data\r\n"
     ]
    }
   ],
   "source": [
    "datadir = 'public_data/'                        # Change this to the directory where you put the input data\n",
    "dataname = 'crime'\n",
    "basename = datadir  + dataname\n",
    "!ls $basename*"
   ]
  },
  {
   "cell_type": "code",
   "execution_count": 119,
   "metadata": {
    "collapsed": false
   },
   "outputs": [
    {
     "name": "stdout",
     "output_type": "stream",
     "text": [
      "Reading public_data/crime_train from AutoML format\n",
      "Number of examples = 60916\n",
      "Number of features = 11\n",
      "Number of classes = 6\n"
     ]
    }
   ],
   "source": [
    "import data_io\n",
    "from imp import reload\n",
    "reload(data_io)\n",
    "data = data_io.read_as_df(basename)                          # The data are loaded as a Pandas Data Frame\n",
    "#data.to_csv(basename + '_train.csv', index=False)           # This allows saving the data in csv format"
   ]
  },
  {
   "cell_type": "code",
   "execution_count": 120,
   "metadata": {
    "collapsed": false
   },
   "outputs": [],
   "source": [
    "data.head()\n",
    "data=data[(data[\"Y\"]<2.0)] \n",
    "\n"
   ]
  },
  {
   "cell_type": "code",
   "execution_count": 121,
   "metadata": {
    "collapsed": false,
    "scrolled": true
   },
   "outputs": [
    {
     "data": {
      "text/html": [
       "<div>\n",
       "<table border=\"1\" class=\"dataframe\">\n",
       "  <thead>\n",
       "    <tr style=\"text-align: right;\">\n",
       "      <th></th>\n",
       "      <th>Year</th>\n",
       "      <th>Month</th>\n",
       "      <th>Day</th>\n",
       "      <th>DayOfWeek</th>\n",
       "      <th>Minute</th>\n",
       "      <th>Hour</th>\n",
       "      <th>X</th>\n",
       "      <th>Y</th>\n",
       "      <th>PdDistrict</th>\n",
       "      <th>Address</th>\n",
       "      <th>Resolution</th>\n",
       "    </tr>\n",
       "  </thead>\n",
       "  <tbody>\n",
       "    <tr>\n",
       "      <th>count</th>\n",
       "      <td>60906.000000</td>\n",
       "      <td>60906.000000</td>\n",
       "      <td>60906.000000</td>\n",
       "      <td>60906.000000</td>\n",
       "      <td>60906.000000</td>\n",
       "      <td>60906.000000</td>\n",
       "      <td>60906.000000</td>\n",
       "      <td>60906.000000</td>\n",
       "      <td>60906.000000</td>\n",
       "      <td>60906.000000</td>\n",
       "      <td>60906.000000</td>\n",
       "    </tr>\n",
       "    <tr>\n",
       "      <th>mean</th>\n",
       "      <td>5.617016</td>\n",
       "      <td>6.450136</td>\n",
       "      <td>15.689144</td>\n",
       "      <td>2.986602</td>\n",
       "      <td>18.903540</td>\n",
       "      <td>14.197222</td>\n",
       "      <td>-0.007293</td>\n",
       "      <td>-0.009556</td>\n",
       "      <td>5.005008</td>\n",
       "      <td>0.330493</td>\n",
       "      <td>1.179490</td>\n",
       "    </tr>\n",
       "    <tr>\n",
       "      <th>std</th>\n",
       "      <td>3.687619</td>\n",
       "      <td>3.444230</td>\n",
       "      <td>8.729034</td>\n",
       "      <td>1.958770</td>\n",
       "      <td>18.405393</td>\n",
       "      <td>6.231475</td>\n",
       "      <td>0.802790</td>\n",
       "      <td>0.047043</td>\n",
       "      <td>3.089741</td>\n",
       "      <td>0.470394</td>\n",
       "      <td>1.773543</td>\n",
       "    </tr>\n",
       "    <tr>\n",
       "      <th>min</th>\n",
       "      <td>0.000000</td>\n",
       "      <td>1.000000</td>\n",
       "      <td>1.000000</td>\n",
       "      <td>0.000000</td>\n",
       "      <td>0.000000</td>\n",
       "      <td>0.000000</td>\n",
       "      <td>-3.001771</td>\n",
       "      <td>-0.133434</td>\n",
       "      <td>0.000000</td>\n",
       "      <td>0.000000</td>\n",
       "      <td>0.000000</td>\n",
       "    </tr>\n",
       "    <tr>\n",
       "      <th>25%</th>\n",
       "      <td>2.000000</td>\n",
       "      <td>3.000000</td>\n",
       "      <td>8.000000</td>\n",
       "      <td>1.000000</td>\n",
       "      <td>0.000000</td>\n",
       "      <td>10.000000</td>\n",
       "      <td>-0.315895</td>\n",
       "      <td>-0.033782</td>\n",
       "      <td>2.000000</td>\n",
       "      <td>0.000000</td>\n",
       "      <td>0.000000</td>\n",
       "    </tr>\n",
       "    <tr>\n",
       "      <th>50%</th>\n",
       "      <td>6.000000</td>\n",
       "      <td>6.000000</td>\n",
       "      <td>16.000000</td>\n",
       "      <td>3.000000</td>\n",
       "      <td>15.000000</td>\n",
       "      <td>15.000000</td>\n",
       "      <td>0.197800</td>\n",
       "      <td>0.004302</td>\n",
       "      <td>5.000000</td>\n",
       "      <td>0.000000</td>\n",
       "      <td>1.000000</td>\n",
       "    </tr>\n",
       "    <tr>\n",
       "      <th>75%</th>\n",
       "      <td>9.000000</td>\n",
       "      <td>10.000000</td>\n",
       "      <td>23.000000</td>\n",
       "      <td>5.000000</td>\n",
       "      <td>30.000000</td>\n",
       "      <td>19.000000</td>\n",
       "      <td>0.491827</td>\n",
       "      <td>0.022567</td>\n",
       "      <td>8.000000</td>\n",
       "      <td>1.000000</td>\n",
       "      <td>1.000000</td>\n",
       "    </tr>\n",
       "    <tr>\n",
       "      <th>max</th>\n",
       "      <td>12.000000</td>\n",
       "      <td>12.000000</td>\n",
       "      <td>31.000000</td>\n",
       "      <td>6.000000</td>\n",
       "      <td>59.000000</td>\n",
       "      <td>23.000000</td>\n",
       "      <td>1.882559</td>\n",
       "      <td>0.093354</td>\n",
       "      <td>9.000000</td>\n",
       "      <td>1.000000</td>\n",
       "      <td>16.000000</td>\n",
       "    </tr>\n",
       "  </tbody>\n",
       "</table>\n",
       "</div>"
      ],
      "text/plain": [
       "               Year         Month           Day     DayOfWeek        Minute  \\\n",
       "count  60906.000000  60906.000000  60906.000000  60906.000000  60906.000000   \n",
       "mean       5.617016      6.450136     15.689144      2.986602     18.903540   \n",
       "std        3.687619      3.444230      8.729034      1.958770     18.405393   \n",
       "min        0.000000      1.000000      1.000000      0.000000      0.000000   \n",
       "25%        2.000000      3.000000      8.000000      1.000000      0.000000   \n",
       "50%        6.000000      6.000000     16.000000      3.000000     15.000000   \n",
       "75%        9.000000     10.000000     23.000000      5.000000     30.000000   \n",
       "max       12.000000     12.000000     31.000000      6.000000     59.000000   \n",
       "\n",
       "               Hour             X             Y    PdDistrict       Address  \\\n",
       "count  60906.000000  60906.000000  60906.000000  60906.000000  60906.000000   \n",
       "mean      14.197222     -0.007293     -0.009556      5.005008      0.330493   \n",
       "std        6.231475      0.802790      0.047043      3.089741      0.470394   \n",
       "min        0.000000     -3.001771     -0.133434      0.000000      0.000000   \n",
       "25%       10.000000     -0.315895     -0.033782      2.000000      0.000000   \n",
       "50%       15.000000      0.197800      0.004302      5.000000      0.000000   \n",
       "75%       19.000000      0.491827      0.022567      8.000000      1.000000   \n",
       "max       23.000000      1.882559      0.093354      9.000000      1.000000   \n",
       "\n",
       "         Resolution  \n",
       "count  60906.000000  \n",
       "mean       1.179490  \n",
       "std        1.773543  \n",
       "min        0.000000  \n",
       "25%        0.000000  \n",
       "50%        1.000000  \n",
       "75%        1.000000  \n",
       "max       16.000000  "
      ]
     },
     "execution_count": 121,
     "metadata": {},
     "output_type": "execute_result"
    }
   ],
   "source": [
    "data.describe() "
   ]
  },
  {
   "cell_type": "code",
   "execution_count": 122,
   "metadata": {
    "collapsed": false
   },
   "outputs": [],
   "source": [
    "categories = data.groupby('target')"
   ]
  },
  {
   "cell_type": "code",
   "execution_count": 123,
   "metadata": {
    "collapsed": false
   },
   "outputs": [],
   "source": [
    "numbers = []\n",
    "cat_names = []\n",
    "for gp in categories.groups:\n",
    "    cat_names.append(gp)\n",
    "    nb =  len(categories.get_group(gp))\n",
    "    numbers.append(nb)"
   ]
  },
  {
   "cell_type": "code",
   "execution_count": 124,
   "metadata": {
    "collapsed": false
   },
   "outputs": [
    {
     "data": {
      "image/png": "[encoded data removed]",
      "text/plain": [
       "<matplotlib.figure.Figure at 0xa84818ec>"
      ]
     },
     "metadata": {},
     "output_type": "display_data"
    }
   ],
   "source": [
    "import numpy as np\n",
    "plt.figure(figsize=(20,10))\n",
    "plt.bar(np.arange(len(numbers)), numbers,align=\"center\",alpha=.5)\n",
    "plt.title('Crime numbers for each crime category')\n",
    "plt.xticks(range(len(numbers)), cat_names,rotation=90,fontsize=10)\n",
    "plt.show()"
   ]
  },
  {
   "cell_type": "code",
   "execution_count": 125,
   "metadata": {
    "collapsed": false
   },
   "outputs": [
    {
     "name": "stdout",
     "output_type": "stream",
     "text": [
      "['VEHICLE THEFT', 'WARRANTS', 'PROSTITUTION', 'DRUG/NARCOTIC', 'LARCENY/THEFT', 'MISSING PERSON']\n"
     ]
    }
   ],
   "source": [
    "print (cat_names)"
   ]
  },
  {
   "cell_type": "code",
   "execution_count": 126,
   "metadata": {
    "collapsed": false
   },
   "outputs": [],
   "source": [
    "years = data.groupby('Year')\n",
    "months = data.groupby('Month')\n",
    "days = data.groupby('Day')\n",
    "weeks = data.groupby('DayOfWeek')\n",
    "hours = data.groupby('Hour')\n",
    "x = data.groupby('X')\n",
    "y = data.groupby('Y')\n"
   ]
  },
  {
   "cell_type": "code",
   "execution_count": 127,
   "metadata": {
    "collapsed": false
   },
   "outputs": [],
   "source": [
    "year = []\n",
    "num_year = []\n",
    "month = []\n",
    "num_months = []\n",
    "day =  []\n",
    "num_days = []\n",
    "week = []\n",
    "num_weeks  = []\n",
    "hour = []\n",
    "num_hours = []\n",
    "for gr in years.groups:\n",
    "    year.append(int(gr)+2000)\n",
    "    num_year.append(len(years.get_group(gr)))\n",
    "for gr in months.groups:\n",
    "    month.append(gr)\n",
    "    num_months.append(len(months.get_group(gr)))\n",
    "for gr in days.groups:\n",
    "    day.append(gr)\n",
    "    num_days.append(len(days.get_group(gr)))\n",
    "for gr in weeks.groups:\n",
    "    week.append(gr)\n",
    "    num_weeks.append(len(weeks.get_group(gr)))\n",
    "for gr in hours.groups:\n",
    "    hour.append(gr)\n",
    "    num_hours.append(len(hours.get_group(gr)))"
   ]
  },
  {
   "cell_type": "code",
   "execution_count": 128,
   "metadata": {
    "collapsed": false
   },
   "outputs": [
    {
     "data": {
      "image/png": "[encoded data removed]",
      "text/plain": [
       "<matplotlib.figure.Figure at 0xa7bd534c>"
      ]
     },
     "metadata": {},
     "output_type": "display_data"
    },
    {
     "data": {
      "image/png": "[encoded data removed]",
      "text/plain": [
       "<matplotlib.figure.Figure at 0xa67d23cc>"
      ]
     },
     "metadata": {},
     "output_type": "display_data"
    },
    {
     "data": {
      "image/png": "[encoded data removed]",
      "text/plain": [
       "<matplotlib.figure.Figure at 0xaa4e82ec>"
      ]
     },
     "metadata": {},
     "output_type": "display_data"
    },
    {
     "data": {
      "image/png": "[encoded data removed]",
      "text/plain": [
       "<matplotlib.figure.Figure at 0xa82e5acc>"
      ]
     },
     "metadata": {},
     "output_type": "display_data"
    },
    {
     "data": {
      "image/png": "[encoded data removed]",
      "text/plain": [
       "<matplotlib.figure.Figure at 0xa78cf5ec>"
      ]
     },
     "metadata": {},
     "output_type": "display_data"
    }
   ],
   "source": [
    "plt.figure(figsize=(20,10))\n",
    "plt.bar(np.arange(len(num_year)), num_year,align=\"center\",alpha=.5)\n",
    "plt.title('crime numbers from 2000 to 2012')\n",
    "plt.xticks(range(len(num_year)), year,rotation=90,fontsize=10)\n",
    "plt.show()\n",
    "\n",
    "plt.figure(figsize=(20,10))\n",
    "plt.bar(np.arange(len(num_months)), num_months,align=\"center\",alpha=.5)\n",
    "plt.title('crime numbers of each month')\n",
    "plt.xticks(range(len(num_months)), month, rotation=90,fontsize=10)\n",
    "plt.show()\n",
    "\n",
    "plt.figure(figsize=(20,10))\n",
    "plt.bar(np.arange(len(num_days)), num_days,align=\"center\",alpha=.5)\n",
    "plt.title('crime numbers of each day in months')\n",
    "plt.xticks(range(len(num_days)), day, rotation=90,fontsize=10)\n",
    "plt.show()\n",
    "\n",
    "plt.figure(figsize=(20,10))\n",
    "plt.bar(np.arange(len(num_weeks)), num_weeks,align=\"center\",alpha=.5)\n",
    "plt.title('crime numbers of each day in weeks')\n",
    "plt.xticks(range(len(num_weeks)), week,rotation=90,fontsize=10)\n",
    "plt.show()\n",
    "\n",
    "plt.figure(figsize=(20,10))\n",
    "plt.bar(np.arange(len(num_hours)), num_hours,align=\"center\",alpha=.5)\n",
    "plt.title('crime numbers of each hour in days')\n",
    "plt.xticks(range(len(num_hours)), hour,rotation=90,fontsize=10)\n",
    "plt.show()"
   ]
  },
  {
   "cell_type": "code",
   "execution_count": null,
   "metadata": {
    "collapsed": false
   },
   "outputs": [],
   "source": [
    "\n"
   ]
  },
  {
   "cell_type": "markdown",
   "metadata": {},
   "source": [
    "## Building a predictive model"
   ]
  },
  {
   "cell_type": "markdown",
   "metadata": {},
   "source": [
    "Data matrices for training and making predictions."
   ]
  },
  {
   "cell_type": "code",
   "execution_count": 129,
   "metadata": {
    "collapsed": false
   },
   "outputs": [
    {
     "name": "stdout",
     "output_type": "stream",
     "text": [
      "('Dimensions X_train=', (60906, 11), 'y_train=', (60906,))\n",
      "Reading public_data/crime_valid from AutoML format\n",
      "Number of examples = 3583\n",
      "Number of features = 11\n",
      "Reading public_data/crime_test from AutoML format\n",
      "Number of examples = 7168\n",
      "Number of features = 11\n"
     ]
    }
   ],
   "source": [
    "X_train = data.drop('target', axis=1).values            # This is the data matrix you already loaded (training data)\n",
    "y_train = data['target'].values                         # These are the target values encoded as categorical variables\n",
    "print ('Dimensions X_train=', X_train.shape, 'y_train=', y_train.shape)\n",
    "X_valid = data_io.read_as_df(basename, 'valid').values\n",
    "X_test = data_io.read_as_df(basename, 'test').values"
   ]
  },
  {
   "cell_type": "markdown",
   "metadata": {},
   "source": [
    "The initial classifier in your starting kit (in the sample_code directory)."
   ]
  },
  {
   "cell_type": "code",
   "execution_count": 130,
   "metadata": {
    "collapsed": false
   },
   "outputs": [],
   "source": [
    "import classifier\n",
    "reload(classifier)                               # If you make changes to your code you have to reload it\n",
    "from classifier import Classifier\n",
    "Classifier??"
   ]
  },
  {
   "cell_type": "markdown",
   "metadata": {},
   "source": [
    "Train, run, and save your classifier and your predictions. If you saved a trained model and/or prediction results, the evaluation script will look for those and use those in priority [(1) use saved predictions; (2) if no predictions, use saved model, do not retrain, just test; (3) if neither, train and test model from scratch]. Compute the predictions with predict_proba, this is more versatile."
   ]
  },
  {
   "cell_type": "code",
   "execution_count": 131,
   "metadata": {
    "collapsed": false
   },
   "outputs": [],
   "source": [
    "result_dir = 'res/'\n",
    "outname = result_dir + dataname\n",
    "clf = Classifier()\n",
    "clf.fit(X_train, y_train)"
   ]
  },
  {
   "cell_type": "code",
   "execution_count": 132,
   "metadata": {
    "collapsed": false,
    "scrolled": true
   },
   "outputs": [
    {
     "name": "stdout",
     "output_type": "stream",
     "text": [
      "res/crime_model.pickle\tres/crime_test.predict\tres/crime_valid.predict\r\n"
     ]
    }
   ],
   "source": [
    "Y_valid = clf.predict_proba(X_valid) \n",
    "Y_test = clf.predict_proba(X_test) \n",
    "clf.save(outname)\n",
    "#clf.load(outname) # Uncomment to check reloading works\n",
    "data_io.write(outname + '_valid.predict', Y_valid)\n",
    "data_io.write(outname + '_test.predict', Y_test)\n",
    "!ls $outname*"
   ]
  },
  {
   "cell_type": "markdown",
   "metadata": {},
   "source": [
    "Compute the training accuracy."
   ]
  },
  {
   "cell_type": "code",
   "execution_count": 133,
   "metadata": {
    "collapsed": false
   },
   "outputs": [
    {
     "name": "stdout",
     "output_type": "stream",
     "text": [
      "('Training accuracy = ', 0.62887071881259649)\n",
      "('Class labels=', array(['DRUG/NARCOTIC', 'LARCENY/THEFT', 'MISSING PERSON', 'PROSTITUTION',\n",
      "       'VEHICLE THEFT', 'WARRANTS'], dtype=object))\n",
      "('Confusion matrix [known in lines, predicted in columns]=\\n', array([[ 5953,  2401,    58,    80,   180,   524],\n",
      "       [ 2121, 25481,   227,    66,  1106,   445],\n",
      "       [  360,  2728,   927,    21,   237,   107],\n",
      "       [  261,   320,    15,   637,    43,    70],\n",
      "       [  525,  5032,   225,    14,  3289,   183],\n",
      "       [ 1960,  2808,    95,    77,   315,  2015]]))\n"
     ]
    }
   ],
   "source": [
    "from sklearn.metrics import accuracy_score\n",
    "from sklearn.metrics import confusion_matrix\n",
    "# Directly predicts the (categorical) class labels\n",
    "y_predict = clf.predict(X_train)                   \n",
    "print ('Training accuracy = ', accuracy_score(y_train, y_predict))\n",
    "class_labels = clf.get_classes()     \n",
    "print ('Class labels=', class_labels)\n",
    "print ('Confusion matrix [known in lines, predicted in columns]=\\n',confusion_matrix(y_train, y_predict, class_labels))"
   ]
  },
  {
   "cell_type": "markdown",
   "metadata": {},
   "source": [
    "Compute cross-validation accuracy. This is usually worse than the training accuracy. Notice that we internally split the training data into training and validation set (this is because we do NOT have the labels of X_valid and X_test)."
   ]
  },
  {
   "cell_type": "code",
   "execution_count": 134,
   "metadata": {
    "collapsed": false
   },
   "outputs": [
    {
     "name": "stdout",
     "output_type": "stream",
     "text": [
      "('Fold', 1, 'validation accuracy = ', 0.47719436508718355)\n",
      "('Fold', 2, 'validation accuracy = ', 0.47840935211637603)\n"
     ]
    }
   ],
   "source": [
    "from sklearn.cross_validation import StratifiedShuffleSplit\n",
    "# This is just an example of 2-fold cross-validation\n",
    "skf = StratifiedShuffleSplit(y_train, n_iter=2, test_size=0.5, random_state=61)\n",
    "i=0\n",
    "for idx_t, idx_v in skf:\n",
    "    i=i+1\n",
    "    Xtr = X_train[idx_t]\n",
    "    Ytr = y_train[idx_t]\n",
    "    Xva = X_train[idx_v]\n",
    "    Yva = y_train[idx_v]\n",
    "    clf = Classifier()\n",
    "    clf.fit(Xtr, Ytr)\n",
    "    Y_predict = clf.predict(Xva)\n",
    "    print ('Fold', i, 'validation accuracy = ', accuracy_score(Y_predict, Yva))"
   ]
  },
  {
   "cell_type": "code",
   "execution_count": 135,
   "metadata": {
    "collapsed": false
   },
   "outputs": [
    {
     "name": "stdout",
     "output_type": "stream",
     "text": [
      "                precision    recall  f1-score   support\n",
      "\n",
      " DRUG/NARCOTIC       0.34      0.41      0.37      4598\n",
      " LARCENY/THEFT       0.56      0.76      0.64     14723\n",
      "MISSING PERSON       0.20      0.06      0.09      2190\n",
      "  PROSTITUTION       0.51      0.23      0.32       673\n",
      " VEHICLE THEFT       0.34      0.18      0.24      4634\n",
      "      WARRANTS       0.26      0.11      0.16      3635\n",
      "\n",
      "   avg / total       0.43      0.48      0.44     30453\n",
      "\n"
     ]
    }
   ],
   "source": [
    "from sklearn.metrics import classification_report  \n",
    "print(classification_report(Yva, Y_predict, target_names=class_labels))"
   ]
  },
  {
   "cell_type": "markdown",
   "metadata": {},
   "source": [
    "ADVANCED: Sklearn does not have multi-class metrics, this shows how libscore metrics work."
   ]
  },
  {
   "cell_type": "code",
   "execution_count": 136,
   "metadata": {
    "collapsed": false
   },
   "outputs": [
    {
     "name": "stdout",
     "output_type": "stream",
     "text": [
      "('Dimensions Y_train=', (60906, 6), 'Class labels=', array(['DRUG/NARCOTIC', 'LARCENY/THEFT', 'MISSING PERSON', 'PROSTITUTION',\n",
      "       'VEHICLE THEFT', 'WARRANTS'], dtype=object))\n",
      "('Training balanced accuracy = ', 0.24729992232714615)\n",
      "('Training probabilistic accuracy = ', -0.28319056201142873)\n",
      "('Training log loss = ', 4.0380150008504643)\n"
     ]
    }
   ],
   "source": [
    "import libscores\n",
    " \n",
    "# To evaluate results with multi-class metrics, the targets must be encoded as one vs. the rest\n",
    "Y_train, C = libscores.onehot(y_train)                                   \n",
    "print ('Dimensions Y_train=', Y_train.shape, 'Class labels=', C)\n",
    "#assert((class_labels==C).all()) # Just to make sure the labels of the classifier are in the right order\n",
    "# Note: if all went well, you should recover public_data/iris_train.solution\n",
    "# You had it all along, but to show you some nice plots we loaded the data as a data frame so we lost it!\n",
    "\n",
    "from libscores import bac_metric \n",
    "from libscores import pac_metric \n",
    "from libscores import log_loss\n",
    "# Predicts probabilities, a matrix patnum x classnum \n",
    "# As solution, you must use Y_train, not y_train\n",
    "y_predict_proba = clf.predict_proba(X_train)      \n",
    "print ('Training balanced accuracy = ', bac_metric(Y_train, y_predict_proba, task='multiclass.classification'))\n",
    "print ('Training probabilistic accuracy = ', pac_metric(Y_train, y_predict_proba, task='multiclass.classification'))\n",
    "print ('Training log loss = ', log_loss(Y_train, y_predict_proba, task='multiclass.classification'))"
   ]
  },
  {
   "cell_type": "code",
   "execution_count": 137,
   "metadata": {
    "collapsed": false
   },
   "outputs": [
    {
     "name": "stdout",
     "output_type": "stream",
     "text": [
      "(6,)\n"
     ]
    }
   ],
   "source": [
    "print(C.shape)"
   ]
  },
  {
   "cell_type": "markdown",
   "metadata": {},
   "source": [
    "## Unit testing"
   ]
  },
  {
   "cell_type": "markdown",
   "metadata": {},
   "source": [
    "It is <b><span style=\"color:red\">important that you test your submission files before submitting them</span></b>. All you have to do to make a submission is modify the file <code>classifier.py</code> in the <code>sample_code/</code> directory, then run this test to make sure everything works fine. This is the actual program that will be run on the server to test your submission.  The program looks for saved results and saved models in the subdirectory <code>res/</code>. If it finds them, it will use them: (1) If results are found, then are copied to the output directory; (2) If no results but a trained model is found, it is reloaded and no training occurs; (3) If nothing is found a fresh model is trained and tested."
   ]
  },
  {
   "cell_type": "code",
   "execution_count": 138,
   "metadata": {
    "collapsed": false,
    "scrolled": true
   },
   "outputs": [],
   "source": [
    "outdir = '../outputs'         # If you use result_dir as output directory, your submission will include your results\n",
    "datadir = 'public_data/'   "
   ]
  },
  {
   "cell_type": "markdown",
   "metadata": {},
   "source": [
    "Generate the submission file, by default, without the public_data in it and without the model, you can change the submission way by changing the call of my_zip in run.py"
   ]
  },
  {
   "cell_type": "code",
   "execution_count": 139,
   "metadata": {
    "collapsed": false
   },
   "outputs": [
    {
     "name": "stdout",
     "output_type": "stream",
     "text": [
      "Using input_dir: ../public_data\n",
      "Using output_dir: /home/mickael.morel/outputs\n",
      "WARNING: Inventory data - No data file found\n",
      "========= Zipping this directory to prepare for submit ==============\n",
      "resultonly\n",
      "See: ../sample_submission_17-03-17-09-54.zip\n",
      "[+] Done\n",
      "[+] Overall time spent  3.70 sec ::  Overall time budget  0.00 sec\n"
     ]
    }
   ],
   "source": [
    "!python run.py ../public_data ../outputs"
   ]
  },
  {
   "cell_type": "markdown",
   "metadata": {
    "collapsed": true
   },
   "source": [
    "## Making your submission\n",
    "\n",
    "The test program <code>run.py</code> prepares your <code>zip</code> file, ready to go. You find it in the directory above where you ran your program. For large datasets, we recommend that <b><span style=\"color:red\">you do NOT bundle the data with your submission</span></b>. The data directory is passed as an argument to run.py, and it is already there on the test server."
   ]
  }
 ],
 "metadata": {
  "anaconda-cloud": {},
  "kernelspec": {
   "display_name": "Python 2",
   "language": "python",
   "name": "python2"
  },
  "language_info": {
   "codemirror_mode": {
    "name": "ipython",
    "version": 2
   },
   "file_extension": ".py",
   "mimetype": "text/x-python",
   "name": "python",
   "nbconvert_exporter": "python",
   "pygments_lexer": "ipython2",
   "version": "2.7.11"
  }
 },
 "nbformat": 4,
 "nbformat_minor": 0
}
